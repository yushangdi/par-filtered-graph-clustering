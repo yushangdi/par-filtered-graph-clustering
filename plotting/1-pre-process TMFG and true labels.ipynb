{
 "cells": [
  {
   "cell_type": "code",
   "execution_count": 6,
   "id": "d4a0e3de",
   "metadata": {},
   "outputs": [],
   "source": [
    "import re\n",
    "import numpy as np\n",
    "import pandas as pd\n",
    "import json\n",
    "from sklearn.metrics.cluster import adjusted_rand_score\n",
    "from sklearn.metrics.cluster import adjusted_mutual_info_score\n",
    "import scipy\n",
    "import scipy.cluster\n",
    "import traceback"
   ]
  },
  {
   "cell_type": "code",
   "execution_count": 2,
   "id": "052e1a9f",
   "metadata": {},
   "outputs": [],
   "source": [
    "dataset_name_dict = {'Mallat': 0,\n",
    " 'UWaveGestureLibraryAll': 1,\n",
    " 'NonInvasiveFetalECGThorax2': 2,\n",
    " 'MixedShapesRegularTrain': 3,\n",
    " 'MixedShapesSmallTrain': 4,\n",
    " 'ECG5000': 5,\n",
    " 'NonInvasiveFetalECGThorax1': 6,\n",
    "#  'MoteStrain': 7,\n",
    " \"StarLightCurves\":7,\n",
    " 'HandOutlines': 8,\n",
    " 'UWaveGestureLibraryX': 9,\n",
    " 'CBF': 10,\n",
    " 'InsectWingbeatSound': 11,\n",
    " 'UWaveGestureLibraryY': 12,\n",
    " 'ShapesAll': 13,\n",
    " 'SonyAIBORobotSurface2': 14,\n",
    " 'FreezerSmallTrain': 15,\n",
    "  'Crop':16,\n",
    " 'ElectricDevices':17}\n",
    "\n",
    "datasets=dataset_name_dict.keys()\n",
    "\n",
    "workers=[1, 4, 12, 24, 36, 48, 96]# 1 must be first processed\n",
    "\n",
    "prefixs=[2, 5, 10, 30, 50, 200]\n",
    "\n",
    "ouput_dir = \"../outputs/tmfg/\""
   ]
  },
  {
   "cell_type": "markdown",
   "id": "c1b05c58",
   "metadata": {},
   "source": [
    "## store true labels"
   ]
  },
  {
   "cell_type": "code",
   "execution_count": 66,
   "id": "b43a02f1",
   "metadata": {},
   "outputs": [],
   "source": [
    "def getDatasetInformation(dataset):\n",
    "    dir_addr = \"../../tmfg_benchmark/par_tmfg/datasets/UCRArchive_2018/\"\n",
    "    X1 = np.genfromtxt(dir_addr+dataset+\"/\"+dataset+\"_TRAIN.tsv\", delimiter=\"\\t\")\n",
    "    X2 = np.genfromtxt(dir_addr+dataset+\"/\"+dataset+\"_TEST.tsv\", delimiter=\"\\t\")\n",
    "    X = np.concatenate((X1, X2), axis=0)\n",
    "    true_labels = X[:,0]\n",
    "    X = X[:,1:]\n",
    "    if dataset in [\"Crop\", \"ElectricDevices\", \"StarLightCurves\"]:\n",
    "        X, index = np.unique(X, axis=0, return_index=True)\n",
    "        true_labels = true_labels[index]\n",
    "    n = X.shape[0]\n",
    "    return {\n",
    "        \"true_labels\":list(true_labels),\n",
    "        \"n\":n\n",
    "    }\n",
    "data_information = {}\n",
    "for dataset in datasets:\n",
    "    data_information[dataset] = getDatasetInformation(dataset)\n",
    "json_string = json.dumps(data_information)\n",
    "# json.dump(json_string, open(\"dataset_information.json\", \"w\"))"
   ]
  },
  {
   "cell_type": "code",
   "execution_count": 3,
   "id": "53958a0a",
   "metadata": {},
   "outputs": [],
   "source": [
    "data_information = json.load(open(\"dataset_information.json\"))\n",
    "data_information = json.loads(data_information)"
   ]
  },
  {
   "cell_type": "markdown",
   "id": "cc09ce91",
   "metadata": {},
   "source": [
    "## store quality"
   ]
  },
  {
   "cell_type": "code",
   "execution_count": 7,
   "id": "5b4ea0cd",
   "metadata": {},
   "outputs": [],
   "source": [
    "def getTMFGQuality(dataset, method, prefix):\n",
    "    if method==\"exact\":\n",
    "        prefix=\"-1\"\n",
    "    else:\n",
    "        prefix=\"-\"+str(prefix)\n",
    "    true_labels = data_information[dataset][\"true_labels\"]\n",
    "    n_cluster = len(np.unique(true_labels))\n",
    "    Z_dir = ouput_dir + \"Zs/%s-%s-Z%s\" % (dataset, method,prefix)\n",
    "    Z = np.genfromtxt(Z_dir)\n",
    "    tmfg_clustering = scipy.cluster.hierarchy.cut_tree(Z, n_clusters=[n_cluster]).flatten()\n",
    "    score = adjusted_rand_score(true_labels, tmfg_clustering)\n",
    "    info_score = adjusted_mutual_info_score(true_labels, tmfg_clustering)\n",
    "    return {\n",
    "        \"score\":score,\n",
    "        \"info_score\":info_score\n",
    "    }\n",
    "quality_dict = {}\n",
    "for dataset in datasets:\n",
    "    scores = getTMFGQuality(dataset, \"exact\", 1)\n",
    "    quality_dict[dataset+\"1\"] = scores\n",
    "    for prefix in prefixs:\n",
    "        scores = getTMFGQuality(dataset, \"prefix\", prefix)\n",
    "        quality_dict[dataset+str(prefix)] = scores\n",
    "json_string = json.dumps(quality_dict)\n",
    "json.dump(json_string, open(\"tmfg_quality_dict.json\", \"w\"))"
   ]
  },
  {
   "cell_type": "code",
   "execution_count": 17,
   "id": "8feb0741",
   "metadata": {},
   "outputs": [],
   "source": [
    "# quality_dict = json.load(open(\"tmfg_quality_dict%s.json\" % version))\n",
    "# quality_dict = json.loads(quality_dict)"
   ]
  },
  {
   "cell_type": "markdown",
   "id": "8bc848fc",
   "metadata": {},
   "source": [
    "## get TMFG csv data "
   ]
  },
  {
   "cell_type": "code",
   "execution_count": 8,
   "id": "7013c80d",
   "metadata": {},
   "outputs": [],
   "source": [
    "space_split = re.compile(\"( |\\n)\")#(\"(### Batch [0-9]+)\")\n",
    "time_find = re.compile(\"tmfg\\ total:.+?\\n\")\n",
    "apsp_time_find = re.compile(\"APSP\\ total:.+?\\n\")\n",
    "direction_time_find = re.compile(\"direction\\ total:.+?\\n\")\n",
    "non_discrete_time_find = re.compile(\"non-discrete\\ total:.+?\\n\")\n",
    "discrete_time_find = re.compile(\"discrete\\ total:.+?\\n\")\n",
    "bubble_time_find = re.compile(\"bubble\\ total:.+?\\n\")\n",
    "hierarchy_time_find = re.compile(\"hierarchy\\ total:.+?\\n\")"
   ]
  },
  {
   "cell_type": "code",
   "execution_count": 9,
   "id": "2bd6c004",
   "metadata": {},
   "outputs": [],
   "source": [
    "def getFileName(dataset, method, prefix, worker, version):\n",
    "#     if version != \"\":\n",
    "#         if method != \"prefix\":\n",
    "#             return ouput_dir + \"cdbht/%s_%s_%sth.txt\" % (dataset+version, method, worker)\n",
    "#         return ouput_dir + \"cdbht/%s_prefix_%s_%sth.txt\" %(dataset+version, prefix, worker)\n",
    "#     else:\n",
    "    if method != \"prefix\":\n",
    "        return ouput_dir + \"cdbht/%s_%s_%sth.txt\" % (dataset, method, worker)\n",
    "    return ouput_dir + \"cdbht/%s_prefix_%s_%sth.txt\" %(dataset, prefix, worker)"
   ]
  },
  {
   "cell_type": "code",
   "execution_count": 10,
   "id": "74939f90",
   "metadata": {},
   "outputs": [],
   "source": [
    "def getInfo(dataset, method, prefix, worker, version):\n",
    "    file = getFileName(dataset, method, prefix, worker, version)\n",
    "    f1 = open(file)  \n",
    "    data1 = f1.read()\n",
    "    time = 10000000000\n",
    "    for timetxt in time_find.findall(data1):\n",
    "        time = min(time, float(timetxt[11:]))\n",
    "    apsptime = 10000000000\n",
    "    for timetxt in apsp_time_find.findall(data1):\n",
    "        apsptime = min(apsptime, float(timetxt[11:]))\n",
    "    directiontime = 10000000000\n",
    "    for timetxt in direction_time_find.findall(data1):\n",
    "        directiontime = min(directiontime, float(timetxt[16:]))\n",
    "    non_discretetime = 10000000000\n",
    "    for timetxt in non_discrete_time_find.findall(data1):\n",
    "        non_discretetime = min(non_discretetime, float(timetxt[19:]))\n",
    "    discretetime = 10000000000\n",
    "    for timetxt in discrete_time_find.findall(data1):\n",
    "        discretetime = min(discretetime, float(timetxt[15:]))\n",
    "    bubbletime = 10000000000\n",
    "    for timetxt in bubble_time_find.findall(data1):\n",
    "        bubbletime = min(bubbletime, float(timetxt[13:]))\n",
    "    hierarchytime = 10000000000\n",
    "    for timetxt in hierarchy_time_find.findall(data1):\n",
    "        hierarchytime = min(hierarchytime, float(timetxt[16:]))\n",
    "    if method==\"exact\":\n",
    "        prefix=1\n",
    "    return {\n",
    "        \"dataset\": dataset,\n",
    "        \"prefix\": str(prefix),\n",
    "        \"method\":\"tmfg_\"+str(prefix),\n",
    "        \"workers\" : worker,\n",
    "        \"tmfg\" : time,\n",
    "        \"apsp\" :apsptime,\n",
    "        \"direction\":directiontime,\n",
    "        \"non_discrete\":non_discretetime,\n",
    "        \"discrete\":discretetime,\n",
    "        \"bubble\":bubbletime,\n",
    "        \"bubble_tree\":directiontime+non_discretetime+discretetime+bubbletime,\n",
    "        \"hierarchy\":hierarchytime,\n",
    "        \"time\":time + apsptime+directiontime+non_discretetime+discretetime+bubbletime+hierarchytime,\n",
    "        \"edge_sum\" : float(data1.split(\"\\n\")[8]),\n",
    "        \"version\": version\n",
    "    }"
   ]
  },
  {
   "cell_type": "code",
   "execution_count": 11,
   "id": "0c47acc7",
   "metadata": {},
   "outputs": [],
   "source": [
    "steps = [\"time\", \"tmfg\", \"apsp\", 'bubble_tree', 'hierarchy']\n",
    "version=\"\"\n",
    "data = []\n",
    "one_thread_time = {}\n",
    "for dataset in datasets:\n",
    "    n = data_information[dataset][\"n\"]\n",
    "    for prefix in prefixs:\n",
    "        data_score = quality_dict[dataset+str(prefix)]\n",
    "        for worker in workers:\n",
    "            try:\n",
    "                tmp = getInfo(dataset, \"prefix\", prefix, worker, version)\n",
    "                if(worker==1):\n",
    "                    for step in steps:\n",
    "                        one_thread_time[dataset+\"-\"+str(prefix)+step] = tmp[step]\n",
    "                        tmp[step+\"speedup\"]=1\n",
    "                else:\n",
    "                    for step in steps:\n",
    "                        speedup = one_thread_time[dataset+\"-\"+str(prefix)+step]/tmp[step]\n",
    "                        tmp[step+\"speedup\"]=speedup\n",
    "            except Exception as e: \n",
    "                print(e)\n",
    "                traceback.print_exc()\n",
    "                print(dataset, prefix, worker, False)\n",
    "            tmp[\"ID\"] = str(dataset_name_dict[dataset])\n",
    "            tmp[\"speedup\"] = tmp[\"timespeedup\"]\n",
    "            tmp[\"score\"] = data_score[\"score\"]\n",
    "            tmp[\"info_score\"] = data_score[\"info_score\"]\n",
    "            tmp[\"n\"]=n\n",
    "            data.append(tmp)\n",
    "\n",
    "one_thread_time = {}\n",
    "for dataset in datasets:\n",
    "    data_score = quality_dict[dataset+str(1)]\n",
    "    n = data_information[dataset][\"n\"]\n",
    "    for worker in workers:\n",
    "        try:\n",
    "            tmp = getInfo(dataset, \"exact\", prefix, worker, version)\n",
    "            if(worker==1):\n",
    "                for step in steps:\n",
    "                    one_thread_time[dataset+\"-\"+str(prefix)+step] = tmp[step]\n",
    "                    tmp[step+\"speedup\"]=1\n",
    "            else:\n",
    "                for step in steps:\n",
    "                    speedup = one_thread_time[dataset+\"-\"+str(prefix)+step]/tmp[step]\n",
    "                    tmp[step+\"speedup\"]=speedup\n",
    "        except Exception as e: \n",
    "            print(e)\n",
    "            traceback.print_exc()\n",
    "            print(dataset, 0, worker, True)\n",
    "        tmp[\"ID\"] = str(dataset_name_dict[dataset])\n",
    "        tmp[\"speedup\"] = tmp[\"timespeedup\"]\n",
    "        tmp[\"score\"] = data_score[\"score\"]\n",
    "        tmp[\"info_score\"] = data_score[\"info_score\"]\n",
    "        tmp[\"n\"]=n\n",
    "        data.append(tmp)\n",
    "df = pd.DataFrame(data) "
   ]
  },
  {
   "cell_type": "code",
   "execution_count": 12,
   "id": "d53977d6",
   "metadata": {},
   "outputs": [],
   "source": [
    "df_tmfg_times = df[[\"dataset\", \"workers\", \"time\", \"method\", \"speedup\", 'ID', 'score','info_score', \"edge_sum\", \"n\", \"prefix\"]]"
   ]
  },
  {
   "cell_type": "code",
   "execution_count": 13,
   "id": "219060ce",
   "metadata": {},
   "outputs": [],
   "source": [
    "df_tmfg_times.to_csv(\"tmfg.csv\")\n",
    "df.to_csv(\"tmfg_allsteps.csv\")"
   ]
  },
  {
   "cell_type": "code",
   "execution_count": null,
   "id": "d9ac99f9",
   "metadata": {},
   "outputs": [],
   "source": []
  }
 ],
 "metadata": {
  "kernelspec": {
   "display_name": "Python 3 (ipykernel)",
   "language": "python",
   "name": "python3"
  },
  "language_info": {
   "codemirror_mode": {
    "name": "ipython",
    "version": 3
   },
   "file_extension": ".py",
   "mimetype": "text/x-python",
   "name": "python",
   "nbconvert_exporter": "python",
   "pygments_lexer": "ipython3",
   "version": "3.9.12"
  }
 },
 "nbformat": 4,
 "nbformat_minor": 5
}
